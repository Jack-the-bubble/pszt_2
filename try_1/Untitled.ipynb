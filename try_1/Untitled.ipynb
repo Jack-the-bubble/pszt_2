{
 "cells": [
  {
   "cell_type": "markdown",
   "metadata": {},
   "source": [
    "# <center>**Podstawy Sztucznej Inteligencji**</center>\n",
    "## <center>Projekt 2</center>\n",
    "### <center> Drzewa decyzyjne oraz sieci neuronowe przy predykcji spalonych obszarów lasu</center>\n",
    "\n",
    "\n",
    "\n",
    "<center>Adrian Nadratowski</center>\n",
    "<center>Marcin Skrzypkowski</center>\n",
    "\n",
    "Celem projektu jest stworzenie modeli przewidujących spalony obszar lasu przy wykorzystaniu udostępnionych nam zestawów danych, pobranych z __Machine Learning Repository__ (https://archive.ics.uci.edu/ml/datasets/Forest+Fires). Naszym zadaniem było przeanalizować powyższe dane, a następnie zaprojektować, nauczyć i zwalidować dwa regresory: model sieci neuronowej oraz drzewa decyzyjnego. Sprawdzenie miało odbyć się z pomocą _k_-krotnej walidacji krzyżowej.\n",
    "\n",
    "Biblioteki wykorzystane do projektu:\n",
    "  * pandas\n",
    "  * tensorflow\n",
    "  * scikit-learn\n",
    "  * matplotlib"
   ]
  },
  {
   "cell_type": "markdown",
   "metadata": {},
   "source": [
    "# %TODO:\n",
    "### do uzupełnienia:\n",
    "  * kluczowe decyzje projektowe\n",
    "  * opis struktury programu\n",
    "  * instrukcja użytkownika (+opis interfejsu)\n",
    "  * wkład poszczególnych autorów\n",
    "  * analiza zbioru danych (również odnośnie brakujących wartości)\n",
    "  "
   ]
  },
  {
   "cell_type": "markdown",
   "metadata": {},
   "source": [
    "### Opis struktury programu\n",
    "\n",
    "Projekt podzielony został na __X__ części. W pierwszej następuje analiza danych oraz sprawdzenie czy nie brajkuje jakichś wartości, które mogłyby wpłynąć na jakość uczenia. Następnie przedstawiona została implementacja drzew decyzyjnych oraz walidacja kilku modeli o różnych parametrach. Kolejnym punktem jest sieć neuronowa oraz jej walidacja. Na sam koniec obydwa sposoby modelowania zostały ze sobą porównane. "
   ]
  },
  {
   "cell_type": "markdown",
   "metadata": {},
   "source": [
    "### Instrukcja obsługi użytkownika\n",
    "\n",
    "  * po uruchomieniu niniejszego projektu należy upewnić się, czy zainstalowane są wszystkie wymagane biblioteki wymienione we wprowadzeniu\n",
    "  * w folderze _../data_ powinien znajdować się zbiór danych, na którym operować będzie poniższy skrypt\n",
    "  * projekt składa się z __4__ głównych części: \n",
    "    1. import i walidacja danych\n",
    "    2. model drzewa decyzyjnego\n",
    "    3. model sieci neuronowej\n",
    "    4. podsumowanie\n",
    "    i w tej kolejności należy uruchamiać odpowiednie skrypty\n",
    "  * każda część projektu uruchamiana jest kolejno od najwyższych do najniższych komórek\n",
    "  * każda komórka jest szczegółowo opisana z wyjaśnieniem procesu w niej zaimplementowanego"
   ]
  },
  {
   "cell_type": "code",
   "execution_count": null,
   "metadata": {},
   "outputs": [],
   "source": []
  }
 ],
 "metadata": {
  "kernelspec": {
   "display_name": "Python 3",
   "language": "python",
   "name": "python3"
  },
  "language_info": {
   "codemirror_mode": {
    "name": "ipython",
    "version": 3
   },
   "file_extension": ".py",
   "mimetype": "text/x-python",
   "name": "python",
   "nbconvert_exporter": "python",
   "pygments_lexer": "ipython3",
   "version": "3.7.3"
  }
 },
 "nbformat": 4,
 "nbformat_minor": 2
}
